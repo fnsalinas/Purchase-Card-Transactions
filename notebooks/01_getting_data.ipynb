{
 "cells": [
  {
   "cell_type": "code",
   "execution_count": 3,
   "id": "4340a949-2def-4818-a38d-12128b49d231",
   "metadata": {},
   "outputs": [],
   "source": [
    "from bs4 import BeautifulSoup\n",
    "from selenium.webdriver import Chrome\n",
    "from selenium.webdriver.chrome.options import Options\n",
    "import urllib.request\n",
    "from contextlib import closing\n",
    "from datetime import datetime as dt"
   ]
  },
  {
   "cell_type": "markdown",
   "id": "e62678f7-a00a-49bc-8e2e-e9e725ecd9ef",
   "metadata": {},
   "source": [
    "## Web Browser and Web Driver info for the web scraping tool"
   ]
  },
  {
   "cell_type": "markdown",
   "id": "ed29b55b-9aa6-4b57-8b19-8a4579e85b2d",
   "metadata": {},
   "source": [
    "_________\n",
    "<p style=\"font-size:20px;color:SteelBlue\"><B>Chrome versión: </B></p>\n",
    "<img src='./img/actual_chrome_version.png'>"
   ]
  },
  {
   "cell_type": "markdown",
   "id": "966adc99-9d80-47da-a8de-26e780f88f61",
   "metadata": {},
   "source": [
    "_________\n",
    "<p style=\"font-size:20px;color:SteelBlue\"><B>Chromedriver versión: </B></p>\n",
    "<img src='./img/chromedriver_version.png'>"
   ]
  },
  {
   "cell_type": "markdown",
   "id": "9e31059e-c26e-4392-937f-83ef915e267d",
   "metadata": {},
   "source": [
    "## Webdriver Options"
   ]
  },
  {
   "cell_type": "code",
   "execution_count": 4,
   "id": "96a3de60-cd3c-4f09-b519-ab309a83e91b",
   "metadata": {},
   "outputs": [],
   "source": [
    "hide_browser = input(\"Hide browser in web scraping process? (YES/NO)\").upper()=='YES'\n",
    "\n",
    "options = Options()\n",
    "options.add_argument('--ignore-certificate-errors')\n",
    "if hide_browser: options.add_argument('--headless')\n",
    "options.add_argument('--disable-dev-shm-usage')\n",
    "options.add_experimental_option('prefs',{'profile.managed_default_content_setings.images':2})"
   ]
  },
  {
   "cell_type": "code",
   "execution_count": 20,
   "id": "3fa40039-aa84-4623-8478-0c6baffc966e",
   "metadata": {},
   "outputs": [],
   "source": [
    "def get_excel_urls(browser):\n",
    "    '''\n",
    "    Parameters\n",
    "        browser: selenium.webdriver.Chrome element\n",
    "    Returns\n",
    "        List of items (excel urls) found on the web driver url\n",
    "    '''\n",
    "    resource_list = BeautifulSoup(browser.page_source, 'html.parser').find('ul',{'class': 'resource-list'})\n",
    "    resource_items = resource_list.find_all('li', {'class':'resource-item'})\n",
    "    items = [item.find('a', {'class':'resource-url-analytics'}).get_attribute_list('href')[0] for item in resource_items]\n",
    "    return items"
   ]
  },
  {
   "cell_type": "code",
   "execution_count": 31,
   "id": "03c3f727-89fc-4892-808e-1cf64aab9eb8",
   "metadata": {},
   "outputs": [
    {
     "name": "stdout",
     "output_type": "stream",
     "text": [
      "13:33:31: downloading ../data/raw/purchasecardtransactionsapril2014.xls\n",
      "13:33:35: downloading ../data/raw/purchasecardtransactionsmay2014.xls\n",
      "13:33:38: downloading ../data/raw/purchasecardtransactionsjune2014.xls\n",
      "13:33:43: downloading ../data/raw/purchasecardtransactionsjuly2014.xls\n",
      "13:33:47: downloading ../data/raw/purchasecardtransactionsaugust2014.xls\n",
      "13:33:50: downloading ../data/raw/purchasecardtransactionsseptember2014.xls\n",
      "13:33:55: downloading ../data/raw/purchasecardtransactionsoctober2014.xls\n",
      "13:33:59: downloading ../data/raw/purchasecardsnov2014.xls\n",
      "13:34:04: downloading ../data/raw/purchasecardsdec2014.xls\n",
      "13:34:07: downloading ../data/raw/purchaseccardtransactionsjanuary2015.xls\n",
      "13:34:12: downloading ../data/raw/publishspendpurchasecardsfebruary.xls\n",
      "13:34:15: downloading ../data/raw/publishspendpurchasecardsmarch.xls\n",
      "13:34:20: downloading ../data/raw/svlrdclr05homesharechexefinainmngeneralappublishspendmay2015.xls\n",
      "13:34:24: downloading ../data/raw/publishspendjune2015alldirectorates.xls\n",
      "13:34:28: downloading ../data/raw/itemisedtransactionsjuly2015publishspend.xls\n",
      "13:34:32: downloading ../data/raw/itemisedtransactionsaugust2015publishspendalldirectorates.xls\n",
      "13:34:35: downloading ../data/raw/publishspendseptember2015.xls\n",
      "13:34:39: downloading ../data/raw/publishspendoctober2015.xls\n",
      "13:34:42: downloading ../data/raw/publishspendnovember2015.xls\n",
      "13:34:47: downloading ../data/raw/publishedspenddecember2015.xls\n",
      "13:34:51: downloading ../data/raw/publishspendjanuary2016.xls\n",
      "13:34:55: downloading ../data/raw/publishspendfebruary2016.xls\n",
      "13:34:59: downloading ../data/raw/publishspendmarch2016.xls\n",
      "13:35:03: downloading ../data/raw/publish-spend-april-2016.xls\n",
      "13:35:07: downloading ../data/raw/publish-spend-may-2016.xls\n",
      "13:35:11: downloading ../data/raw/publish-spend-june-2016.xls\n",
      "13:35:15: downloading ../data/raw/publish-spend-july-2016.xls\n",
      "13:35:19: downloading ../data/raw/publish-spend-august-2016.xls\n",
      "13:35:23: downloading ../data/raw/publish-spend-september-2016.xls\n",
      "13:35:27: downloading ../data/raw/publish-spend-october-2016.xls\n",
      "13:35:31: downloading ../data/raw/publishing-spend-november-2016.xls\n",
      "13:35:36: downloading ../data/raw/publish-spend-december-2016.xls\n",
      "13:35:39: downloading ../data/raw/cusersfinainmndesktoppublish-copy-january-2017.xls\n",
      "13:35:45: downloading ../data/raw/cusersfinainmndesktoppublish-spend-february-2017-all-directorates.xls\n",
      "13:35:49: downloading ../data/raw/cusersfinainmndesktoppublish-spend-march-2017.xls\n",
      "13:35:54: downloading ../data/raw/cusersfinainmndesktoppublish-spend-april-2017.xls\n",
      "13:35:58: downloading ../data/raw/cusersfinainmndesktoppublish-spend-may-2017.xls\n",
      "13:36:03: downloading ../data/raw/cusersfinainmndesktoppublish-spend-june--2017.xls\n",
      "13:36:08: downloading ../data/raw/cusersfinainmndesktoppublish-spend-july-2017.xls\n",
      "13:36:13: downloading ../data/raw/cusersfinainmndesktoppublish-spend-august-2017-all-directorates.xls\n",
      "13:36:16: downloading ../data/raw/cusersfinainmndesktoppublish-spend-sept-2017.xls\n",
      "13:36:21: downloading ../data/raw/cusersfinainmndesktoppublish-spend-october-2017-all-directorates.xls\n",
      "13:36:25: downloading ../data/raw/cusersfinainmndesktoppublish-spend-november-2017-all-directorates.xls\n",
      "13:36:29: downloading ../data/raw/open_data_planning_weekly_list.csv\n",
      "13:36:31: downloading ../data/raw/cusersfinainmndesktoppublish-spend-january-2018.xls\n",
      "13:36:36: All files downloaded...\n"
     ]
    }
   ],
   "source": [
    "main_url = 'https://data.birmingham.gov.uk/dataset/purchase-card-transactions'\n",
    "\n",
    "with closing(Chrome(executable_path='./assets/chromedriver.exe', options=options)) as browser:\n",
    "    browser.get(main_url)\n",
    "    for file in get_excel_urls(browser):\n",
    "        f = f\"../data/raw/{file.split('/')[-1]}\"\n",
    "        print(f'{dt.now().strftime(\"%H:%M:%S\")}: downloading {f}')\n",
    "        urllib.request.urlretrieve(file, f)\n",
    "    print(f'{dt.now().strftime(\"%H:%M:%S\")}: All files downloaded...')"
   ]
  }
 ],
 "metadata": {
  "kernelspec": {
   "display_name": "Python 3 (ipykernel)",
   "language": "python",
   "name": "python3"
  },
  "language_info": {
   "codemirror_mode": {
    "name": "ipython",
    "version": 3
   },
   "file_extension": ".py",
   "mimetype": "text/x-python",
   "name": "python",
   "nbconvert_exporter": "python",
   "pygments_lexer": "ipython3",
   "version": "3.9.5"
  }
 },
 "nbformat": 4,
 "nbformat_minor": 5
}
