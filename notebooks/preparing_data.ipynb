{
 "cells": [
  {
   "cell_type": "code",
   "execution_count": 1,
   "id": "e5bab474-cc5e-42a7-ae37-98a1dd764a90",
   "metadata": {},
   "outputs": [],
   "source": [
    "import os\n",
    "import sys\n",
    "cwd = os.getcwd()\n",
    "new_wd = '../src/visualization/'\n",
    "\n",
    "os.chdir(new_wd)\n",
    "from multistats import getstats\n",
    "os.chdir(cwd)\n",
    "\n",
    "import pandas as pd\n",
    "import numpy as np\n",
    "import matplotlib.pyplot as plt\n",
    "import missingno as msno\n",
    "\n",
    "import warnings\n",
    "warnings.filterwarnings('ignore')\n",
    "\n",
    "%matplotlib inline"
   ]
  },
  {
   "cell_type": "code",
   "execution_count": 2,
   "id": "ba688477-e11d-4e96-ae38-32c975e34e58",
   "metadata": {},
   "outputs": [
    {
     "name": "stdout",
     "output_type": "stream",
     "text": [
      "<class 'pandas.core.frame.DataFrame'>\n",
      "RangeIndex: 185909 entries, 0 to 185908\n",
      "Data columns (total 19 columns):\n",
      " #   Column              Non-Null Count   Dtype  \n",
      "---  ------              --------------   -----  \n",
      " 0   file_name           185909 non-null  object \n",
      " 1   sheet_name          185909 non-null  object \n",
      " 2   trans_date          185908 non-null  object \n",
      " 3   trans_vat_desc      176065 non-null  object \n",
      " 4   original_gross_amt  185908 non-null  float64\n",
      " 5   original_cur        54229 non-null   object \n",
      " 6   merchant_name       185908 non-null  object \n",
      " 7   card_number         185908 non-null  object \n",
      " 8   billing_gross_amt   54229 non-null   float64\n",
      " 9   billing_cur_code    88696 non-null   object \n",
      " 10  billing_cur_code_1  4598 non-null    object \n",
      " 11  trans_tax_amt       4598 non-null    float64\n",
      " 12  trans_cac_code_1    185804 non-null  object \n",
      " 13  trans_cac_desc_1    185804 non-null  object \n",
      " 14  trans_cac_code_2    185673 non-null  object \n",
      " 15  trans_cac_desc_2    185673 non-null  object \n",
      " 16  trans_cac_code_3    185616 non-null  object \n",
      " 17  directorate         181212 non-null  object \n",
      " 18  unnamed             3959 non-null    object \n",
      "dtypes: float64(3), object(16)\n",
      "memory usage: 26.9+ MB\n"
     ]
    },
    {
     "data": {
      "text/html": [
       "<div>\n",
       "<style scoped>\n",
       "    .dataframe tbody tr th:only-of-type {\n",
       "        vertical-align: middle;\n",
       "    }\n",
       "\n",
       "    .dataframe tbody tr th {\n",
       "        vertical-align: top;\n",
       "    }\n",
       "\n",
       "    .dataframe thead th {\n",
       "        text-align: right;\n",
       "    }\n",
       "</style>\n",
       "<table border=\"1\" class=\"dataframe\">\n",
       "  <thead>\n",
       "    <tr style=\"text-align: right;\">\n",
       "      <th></th>\n",
       "      <th>file_name</th>\n",
       "      <th>sheet_name</th>\n",
       "      <th>trans_date</th>\n",
       "      <th>trans_vat_desc</th>\n",
       "      <th>original_gross_amt</th>\n",
       "      <th>original_cur</th>\n",
       "      <th>merchant_name</th>\n",
       "      <th>card_number</th>\n",
       "      <th>billing_gross_amt</th>\n",
       "      <th>billing_cur_code</th>\n",
       "      <th>billing_cur_code_1</th>\n",
       "      <th>trans_tax_amt</th>\n",
       "      <th>trans_cac_code_1</th>\n",
       "      <th>trans_cac_desc_1</th>\n",
       "      <th>trans_cac_code_2</th>\n",
       "      <th>trans_cac_desc_2</th>\n",
       "      <th>trans_cac_code_3</th>\n",
       "      <th>directorate</th>\n",
       "      <th>unnamed</th>\n",
       "    </tr>\n",
       "  </thead>\n",
       "  <tbody>\n",
       "    <tr>\n",
       "      <th>0</th>\n",
       "      <td>cusersfinainmndesktoppublish-copy-january-2017...</td>\n",
       "      <td>Sheet1</td>\n",
       "      <td>2017-01-03</td>\n",
       "      <td>VR</td>\n",
       "      <td>72.61</td>\n",
       "      <td>GBP</td>\n",
       "      <td>shell kings 587</td>\n",
       "      <td>************5770</td>\n",
       "      <td>72.61</td>\n",
       "      <td>GBP</td>\n",
       "      <td>NaN</td>\n",
       "      <td>NaN</td>\n",
       "      <td>K020</td>\n",
       "      <td>Vehicle Fuel</td>\n",
       "      <td>RV12N</td>\n",
       "      <td>African-Caribbean DC</td>\n",
       "      <td>A00</td>\n",
       "      <td>Adult &amp; Communities</td>\n",
       "      <td>NaN</td>\n",
       "    </tr>\n",
       "    <tr>\n",
       "      <th>1</th>\n",
       "      <td>cusersfinainmndesktoppublish-copy-january-2017...</td>\n",
       "      <td>Sheet1</td>\n",
       "      <td>2017-01-24</td>\n",
       "      <td>VR</td>\n",
       "      <td>85.51</td>\n",
       "      <td>GBP</td>\n",
       "      <td>shell fiveways 387</td>\n",
       "      <td>************1147</td>\n",
       "      <td>85.51</td>\n",
       "      <td>GBP</td>\n",
       "      <td>NaN</td>\n",
       "      <td>NaN</td>\n",
       "      <td>K020</td>\n",
       "      <td>Vehicle Fuel</td>\n",
       "      <td>RV1K2</td>\n",
       "      <td>Elders Group - Ladywood</td>\n",
       "      <td>A00</td>\n",
       "      <td>Adult &amp; Communities</td>\n",
       "      <td>NaN</td>\n",
       "    </tr>\n",
       "    <tr>\n",
       "      <th>2</th>\n",
       "      <td>cusersfinainmndesktoppublish-copy-january-2017...</td>\n",
       "      <td>Sheet1</td>\n",
       "      <td>2017-02-01</td>\n",
       "      <td>VR</td>\n",
       "      <td>10.09</td>\n",
       "      <td>GBP</td>\n",
       "      <td>shell fiveways 387</td>\n",
       "      <td>************1147</td>\n",
       "      <td>10.09</td>\n",
       "      <td>GBP</td>\n",
       "      <td>NaN</td>\n",
       "      <td>NaN</td>\n",
       "      <td>K020</td>\n",
       "      <td>Vehicle Fuel</td>\n",
       "      <td>RV1K2</td>\n",
       "      <td>Elders Group - Ladywood</td>\n",
       "      <td>A00</td>\n",
       "      <td>Adult &amp; Communities</td>\n",
       "      <td>NaN</td>\n",
       "    </tr>\n",
       "    <tr>\n",
       "      <th>3</th>\n",
       "      <td>cusersfinainmndesktoppublish-copy-january-2017...</td>\n",
       "      <td>Sheet1</td>\n",
       "      <td>2017-01-04</td>\n",
       "      <td>VR</td>\n",
       "      <td>20.00</td>\n",
       "      <td>GBP</td>\n",
       "      <td>mibsons service st</td>\n",
       "      <td>************5804</td>\n",
       "      <td>20.00</td>\n",
       "      <td>GBP</td>\n",
       "      <td>NaN</td>\n",
       "      <td>NaN</td>\n",
       "      <td>K020</td>\n",
       "      <td>Vehicle Fuel</td>\n",
       "      <td>RVA12</td>\n",
       "      <td>Enablement Tyburn Rd</td>\n",
       "      <td>A00</td>\n",
       "      <td>Adult &amp; Communities</td>\n",
       "      <td>NaN</td>\n",
       "    </tr>\n",
       "    <tr>\n",
       "      <th>4</th>\n",
       "      <td>cusersfinainmndesktoppublish-copy-january-2017...</td>\n",
       "      <td>Sheet1</td>\n",
       "      <td>2017-01-05</td>\n",
       "      <td>VR</td>\n",
       "      <td>50.00</td>\n",
       "      <td>GBP</td>\n",
       "      <td>malthurst petroleu</td>\n",
       "      <td>************5804</td>\n",
       "      <td>50.00</td>\n",
       "      <td>GBP</td>\n",
       "      <td>NaN</td>\n",
       "      <td>NaN</td>\n",
       "      <td>K020</td>\n",
       "      <td>Vehicle Fuel</td>\n",
       "      <td>RVA12</td>\n",
       "      <td>Enablement Tyburn Rd</td>\n",
       "      <td>A00</td>\n",
       "      <td>Adult &amp; Communities</td>\n",
       "      <td>NaN</td>\n",
       "    </tr>\n",
       "  </tbody>\n",
       "</table>\n",
       "</div>"
      ],
      "text/plain": [
       "                                           file_name sheet_name  trans_date  \\\n",
       "0  cusersfinainmndesktoppublish-copy-january-2017...     Sheet1  2017-01-03   \n",
       "1  cusersfinainmndesktoppublish-copy-january-2017...     Sheet1  2017-01-24   \n",
       "2  cusersfinainmndesktoppublish-copy-january-2017...     Sheet1  2017-02-01   \n",
       "3  cusersfinainmndesktoppublish-copy-january-2017...     Sheet1  2017-01-04   \n",
       "4  cusersfinainmndesktoppublish-copy-january-2017...     Sheet1  2017-01-05   \n",
       "\n",
       "  trans_vat_desc  original_gross_amt original_cur       merchant_name  \\\n",
       "0             VR               72.61          GBP     shell kings 587   \n",
       "1             VR               85.51          GBP  shell fiveways 387   \n",
       "2             VR               10.09          GBP  shell fiveways 387   \n",
       "3             VR               20.00          GBP  mibsons service st   \n",
       "4             VR               50.00          GBP  malthurst petroleu   \n",
       "\n",
       "        card_number  billing_gross_amt billing_cur_code billing_cur_code_1  \\\n",
       "0  ************5770              72.61              GBP                NaN   \n",
       "1  ************1147              85.51              GBP                NaN   \n",
       "2  ************1147              10.09              GBP                NaN   \n",
       "3  ************5804              20.00              GBP                NaN   \n",
       "4  ************5804              50.00              GBP                NaN   \n",
       "\n",
       "   trans_tax_amt trans_cac_code_1 trans_cac_desc_1 trans_cac_code_2  \\\n",
       "0            NaN             K020     Vehicle Fuel            RV12N   \n",
       "1            NaN             K020     Vehicle Fuel            RV1K2   \n",
       "2            NaN             K020     Vehicle Fuel            RV1K2   \n",
       "3            NaN             K020     Vehicle Fuel            RVA12   \n",
       "4            NaN             K020     Vehicle Fuel            RVA12   \n",
       "\n",
       "          trans_cac_desc_2 trans_cac_code_3          directorate unnamed  \n",
       "0     African-Caribbean DC              A00  Adult & Communities     NaN  \n",
       "1  Elders Group - Ladywood              A00  Adult & Communities     NaN  \n",
       "2  Elders Group - Ladywood              A00  Adult & Communities     NaN  \n",
       "3     Enablement Tyburn Rd              A00  Adult & Communities     NaN  \n",
       "4     Enablement Tyburn Rd              A00  Adult & Communities     NaN  "
      ]
     },
     "execution_count": 2,
     "metadata": {},
     "output_type": "execute_result"
    }
   ],
   "source": [
    "df = pd.read_csv('../data/interim/raw_consolidated_data.csv', sep='~', encoding='utf-8', low_memory=False)\n",
    "df.info()\n",
    "df.head()"
   ]
  },
  {
   "cell_type": "markdown",
   "id": "c0672f5d-ce6a-4b77-8513-2696a815cebf",
   "metadata": {},
   "source": [
    "___________\n",
    "### Review missing data"
   ]
  },
  {
   "cell_type": "code",
   "execution_count": 3,
   "id": "dcdc3b32-0ce0-4801-b799-7acdbb43a19b",
   "metadata": {},
   "outputs": [
    {
     "data": {
      "text/plain": [
       "file_name                  0\n",
       "sheet_name                 0\n",
       "trans_date                 1\n",
       "trans_vat_desc          9844\n",
       "original_gross_amt         1\n",
       "original_cur          131680\n",
       "merchant_name              1\n",
       "card_number                1\n",
       "billing_gross_amt     131680\n",
       "billing_cur_code       97213\n",
       "billing_cur_code_1    181311\n",
       "trans_tax_amt         181311\n",
       "trans_cac_code_1         105\n",
       "trans_cac_desc_1         105\n",
       "trans_cac_code_2         236\n",
       "trans_cac_desc_2         236\n",
       "trans_cac_code_3         293\n",
       "directorate             4697\n",
       "unnamed               181950\n",
       "dtype: int64"
      ]
     },
     "execution_count": 3,
     "metadata": {},
     "output_type": "execute_result"
    }
   ],
   "source": [
    "df.isna().sum()"
   ]
  },
  {
   "cell_type": "markdown",
   "id": "a08c1181-4e04-4123-8265-5684e68c8954",
   "metadata": {},
   "source": [
    "There are a full row with null values, it only have data on the columns **file_name** and **sheet_name**. In the next cell that row is deleted from the dataframe."
   ]
  },
  {
   "cell_type": "code",
   "execution_count": 4,
   "id": "8e0034da-ae0e-43bc-9ea6-46d0f12d542e",
   "metadata": {},
   "outputs": [],
   "source": [
    "df.drop(df[df['trans_date'].isna()].index, inplace=True)"
   ]
  },
  {
   "cell_type": "markdown",
   "id": "79b24770-27bd-4a3f-aa96-118ece5347a5",
   "metadata": {},
   "source": [
    "### Ploting a nullity matrix to identify null patterns between columns"
   ]
  },
  {
   "cell_type": "code",
   "execution_count": 5,
   "id": "69cc65fa-df4b-4066-b6b1-b6b2c0c11ccf",
   "metadata": {},
   "outputs": [
    {
     "data": {
      "text/plain": [
       "<AxesSubplot:>"
      ]
     },
     "execution_count": 5,
     "metadata": {},
     "output_type": "execute_result"
    },
    {
     "data": {
      "image/png": "[encoded data removed]",
      "text/plain": [
       "<Figure size 1800x720 with 2 Axes>"
      ]
     },
     "metadata": {
      "needs_background": "light"
     },
     "output_type": "display_data"
    }
   ],
   "source": [
    "msno.matrix(df.sort_values(by=['file_name', 'sheet_name']))"
   ]
  },
  {
   "cell_type": "code",
   "execution_count": 6,
   "id": "1afae192-fcf3-482a-bbd8-bf3dcd0c664c",
   "metadata": {},
   "outputs": [
    {
     "name": "stdout",
     "output_type": "stream",
     "text": [
      "----------------------------------------------------------------------------------------------------\n",
      "Column original_cur have 70.8% of null values:\n",
      "      index  original_cur\n",
      "0      Null        131679\n",
      "1  Not Null         54229\n",
      "----------------------------------------------------------------------------------------------------\n",
      "Column billing_gross_amt have 70.8% of null values:\n",
      "      index  billing_gross_amt\n",
      "0      Null             131679\n",
      "1  Not Null              54229\n",
      "----------------------------------------------------------------------------------------------------\n",
      "Column billing_cur_code have 52.3% of null values and only one class when is not null:\n",
      "NaN    97212\n",
      "GBP    88696\n",
      "Name: billing_cur_code, dtype: int64\n",
      "----------------------------------------------------------------------------------------------------\n",
      "Column billing_cur_code_1 have 97.5% of null values and only one class when is not null:\n",
      "NaN    181310\n",
      "GBP      4598\n",
      "Name: billing_cur_code_1, dtype: int64\n",
      "----------------------------------------------------------------------------------------------------\n",
      "Column trans_tax_amt have 97.5% of null values:\n",
      "      index  trans_tax_amt\n",
      "0      Null         181310\n",
      "1  Not Null           4598\n"
     ]
    }
   ],
   "source": [
    "col = 'original_cur'\n",
    "print('-'*100 + f'\\nColumn {col} have {df[col].isna().sum()/df.shape[0]:.1%} of null values:')\n",
    "print(df[col].isna().value_counts().reset_index().replace({True:'Null',False:'Not Null'}))\n",
    "\n",
    "col = 'billing_gross_amt'\n",
    "print('-'*100 + f'\\nColumn {col} have {df[col].isna().sum()/df.shape[0]:.1%} of null values:')\n",
    "print(df[col].isna().value_counts().reset_index().replace({True:'Null',False:'Not Null'}))\n",
    "\n",
    "col = 'billing_cur_code'\n",
    "print('-'*100 + f'\\nColumn {col} have {df[col].isna().sum()/df.shape[0]:.1%} of null values and only one class when is not null:')\n",
    "print(df[col].value_counts(dropna=False))\n",
    "\n",
    "col = 'billing_cur_code_1'\n",
    "print('-'*100 + f'\\nColumn {col} have {df[col].isna().sum()/df.shape[0]:.1%} of null values and only one class when is not null:')\n",
    "print(df[col].value_counts(dropna=False))\n",
    "\n",
    "col = 'trans_tax_amt'\n",
    "print('-'*100 + f'\\nColumn {col} have {df[col].isna().sum()/df.shape[0]:.1%} of null values:')\n",
    "print(df[col].isna().value_counts().reset_index().replace({True:'Null',False:'Not Null'}))"
   ]
  },
  {
   "cell_type": "code",
   "execution_count": 7,
   "id": "3f4e3ca1-ba75-4786-8c42-4dd26cc10142",
   "metadata": {},
   "outputs": [
    {
     "name": "stdout",
     "output_type": "stream",
     "text": [
      "Classes for the column directorate:\n",
      "CYP&F SCHOOLS                   85612\n",
      "Local Services                  41676\n",
      "CYP&F                           23837\n",
      "Corporate Resources             12205\n",
      "Adult & Communities             12150\n",
      "NaN                              4697\n",
      "DEVELOPMENT                      3810\n",
      "Adult Social Care and Health      564\n",
      "CYP&F                             513\n",
      "CYP&F Schools                     457\n",
      "CYP&F                             127\n",
      "CYO&F                              87\n",
      "Adults & Comms                     50\n",
      "Development                        41\n",
      "Local services                     39\n",
      "Adults                             24\n",
      "Adults & Communities               16\n",
      "Corporate Procurement               3\n",
      "Name: directorate, dtype: int64\n",
      "\n",
      "Classes for the column unnamed:\n",
      "NaN                    181949\n",
      "CYP&F SCHOOLS            1920\n",
      "Local Services            716\n",
      "CYP&F                     630\n",
      "Corporate Resources       259\n",
      "Adult & Communities       217\n",
      "DEVELOPMENT               173\n",
      "CYP&F                      35\n",
      "CYO&F                       6\n",
      "CYP&F Schools               2\n",
      "Adults & Comms              1\n",
      "Name: unnamed, dtype: int64\n"
     ]
    }
   ],
   "source": [
    "print(f\"Classes for the column directorate:\\n{df['directorate'].value_counts(dropna=False)}\")\n",
    "print(f\"\\nClasses for the column unnamed:\\n{df['unnamed'].value_counts(dropna=False)}\")"
   ]
  },
  {
   "cell_type": "code",
   "execution_count": 8,
   "id": "321779f3-b298-4075-ad3a-ba5ebf78c9aa",
   "metadata": {},
   "outputs": [
    {
     "data": {
      "text/plain": [
       "CYP&F SCHOOLS                   87532\n",
       "Local Services                  42392\n",
       "CYP&F                           24467\n",
       "Corporate Resources             12464\n",
       "Adult & Communities             12367\n",
       "DEVELOPMENT                      3983\n",
       "NaN                               738\n",
       "Adult Social Care and Health      564\n",
       "CYP&F                             548\n",
       "CYP&F Schools                     459\n",
       "CYP&F                             127\n",
       "CYO&F                              93\n",
       "Adults & Comms                     51\n",
       "Development                        41\n",
       "Local services                     39\n",
       "Adults                             24\n",
       "Adults & Communities               16\n",
       "Corporate Procurement               3\n",
       "Name: directorate_completed, dtype: int64"
      ]
     },
     "execution_count": 8,
     "metadata": {},
     "output_type": "execute_result"
    }
   ],
   "source": [
    "df['directorate_completed'] = df.apply(lambda x: x['unnamed'] if str(x['directorate'])=='nan' and str(x['unnamed'])!='nan' else x['directorate'], axis=1)\n",
    "df['directorate_completed'].value_counts(dropna=False)"
   ]
  },
  {
   "cell_type": "code",
   "execution_count": 9,
   "id": "b9fcfb53-acf5-4c72-996c-102743777985",
   "metadata": {},
   "outputs": [
    {
     "name": "stdout",
     "output_type": "stream",
     "text": [
      "<class 'pandas.core.frame.DataFrame'>\n",
      "Int64Index: 185908 entries, 0 to 185908\n",
      "Data columns (total 12 columns):\n",
      " #   Column                 Non-Null Count   Dtype  \n",
      "---  ------                 --------------   -----  \n",
      " 0   file_name              185908 non-null  object \n",
      " 1   sheet_name             185908 non-null  object \n",
      " 2   trans_date             185908 non-null  object \n",
      " 3   original_gross_amt     185908 non-null  float64\n",
      " 4   merchant_name          185908 non-null  object \n",
      " 5   card_number            185908 non-null  object \n",
      " 6   trans_cac_code_1       185804 non-null  object \n",
      " 7   trans_cac_desc_1       185804 non-null  object \n",
      " 8   trans_cac_code_2       185673 non-null  object \n",
      " 9   trans_cac_desc_2       185673 non-null  object \n",
      " 10  trans_cac_code_3       185616 non-null  object \n",
      " 11  directorate_completed  185170 non-null  object \n",
      "dtypes: float64(1), object(11)\n",
      "memory usage: 18.4+ MB\n"
     ]
    },
    {
     "data": {
      "text/html": [
       "<div>\n",
       "<style scoped>\n",
       "    .dataframe tbody tr th:only-of-type {\n",
       "        vertical-align: middle;\n",
       "    }\n",
       "\n",
       "    .dataframe tbody tr th {\n",
       "        vertical-align: top;\n",
       "    }\n",
       "\n",
       "    .dataframe thead th {\n",
       "        text-align: right;\n",
       "    }\n",
       "</style>\n",
       "<table border=\"1\" class=\"dataframe\">\n",
       "  <thead>\n",
       "    <tr style=\"text-align: right;\">\n",
       "      <th></th>\n",
       "      <th>file_name</th>\n",
       "      <th>sheet_name</th>\n",
       "      <th>trans_date</th>\n",
       "      <th>original_gross_amt</th>\n",
       "      <th>merchant_name</th>\n",
       "      <th>card_number</th>\n",
       "      <th>trans_cac_code_1</th>\n",
       "      <th>trans_cac_desc_1</th>\n",
       "      <th>trans_cac_code_2</th>\n",
       "      <th>trans_cac_desc_2</th>\n",
       "      <th>trans_cac_code_3</th>\n",
       "      <th>directorate_completed</th>\n",
       "    </tr>\n",
       "  </thead>\n",
       "  <tbody>\n",
       "    <tr>\n",
       "      <th>0</th>\n",
       "      <td>cusersfinainmndesktoppublish-copy-january-2017...</td>\n",
       "      <td>Sheet1</td>\n",
       "      <td>2017-01-03</td>\n",
       "      <td>72.61</td>\n",
       "      <td>shell kings 587</td>\n",
       "      <td>************5770</td>\n",
       "      <td>K020</td>\n",
       "      <td>Vehicle Fuel</td>\n",
       "      <td>RV12N</td>\n",
       "      <td>African-Caribbean DC</td>\n",
       "      <td>A00</td>\n",
       "      <td>Adult &amp; Communities</td>\n",
       "    </tr>\n",
       "    <tr>\n",
       "      <th>1</th>\n",
       "      <td>cusersfinainmndesktoppublish-copy-january-2017...</td>\n",
       "      <td>Sheet1</td>\n",
       "      <td>2017-01-24</td>\n",
       "      <td>85.51</td>\n",
       "      <td>shell fiveways 387</td>\n",
       "      <td>************1147</td>\n",
       "      <td>K020</td>\n",
       "      <td>Vehicle Fuel</td>\n",
       "      <td>RV1K2</td>\n",
       "      <td>Elders Group - Ladywood</td>\n",
       "      <td>A00</td>\n",
       "      <td>Adult &amp; Communities</td>\n",
       "    </tr>\n",
       "    <tr>\n",
       "      <th>2</th>\n",
       "      <td>cusersfinainmndesktoppublish-copy-january-2017...</td>\n",
       "      <td>Sheet1</td>\n",
       "      <td>2017-02-01</td>\n",
       "      <td>10.09</td>\n",
       "      <td>shell fiveways 387</td>\n",
       "      <td>************1147</td>\n",
       "      <td>K020</td>\n",
       "      <td>Vehicle Fuel</td>\n",
       "      <td>RV1K2</td>\n",
       "      <td>Elders Group - Ladywood</td>\n",
       "      <td>A00</td>\n",
       "      <td>Adult &amp; Communities</td>\n",
       "    </tr>\n",
       "    <tr>\n",
       "      <th>3</th>\n",
       "      <td>cusersfinainmndesktoppublish-copy-january-2017...</td>\n",
       "      <td>Sheet1</td>\n",
       "      <td>2017-01-04</td>\n",
       "      <td>20.00</td>\n",
       "      <td>mibsons service st</td>\n",
       "      <td>************5804</td>\n",
       "      <td>K020</td>\n",
       "      <td>Vehicle Fuel</td>\n",
       "      <td>RVA12</td>\n",
       "      <td>Enablement Tyburn Rd</td>\n",
       "      <td>A00</td>\n",
       "      <td>Adult &amp; Communities</td>\n",
       "    </tr>\n",
       "    <tr>\n",
       "      <th>4</th>\n",
       "      <td>cusersfinainmndesktoppublish-copy-january-2017...</td>\n",
       "      <td>Sheet1</td>\n",
       "      <td>2017-01-05</td>\n",
       "      <td>50.00</td>\n",
       "      <td>malthurst petroleu</td>\n",
       "      <td>************5804</td>\n",
       "      <td>K020</td>\n",
       "      <td>Vehicle Fuel</td>\n",
       "      <td>RVA12</td>\n",
       "      <td>Enablement Tyburn Rd</td>\n",
       "      <td>A00</td>\n",
       "      <td>Adult &amp; Communities</td>\n",
       "    </tr>\n",
       "  </tbody>\n",
       "</table>\n",
       "</div>"
      ],
      "text/plain": [
       "                                           file_name sheet_name  trans_date  \\\n",
       "0  cusersfinainmndesktoppublish-copy-january-2017...     Sheet1  2017-01-03   \n",
       "1  cusersfinainmndesktoppublish-copy-january-2017...     Sheet1  2017-01-24   \n",
       "2  cusersfinainmndesktoppublish-copy-january-2017...     Sheet1  2017-02-01   \n",
       "3  cusersfinainmndesktoppublish-copy-january-2017...     Sheet1  2017-01-04   \n",
       "4  cusersfinainmndesktoppublish-copy-january-2017...     Sheet1  2017-01-05   \n",
       "\n",
       "   original_gross_amt       merchant_name       card_number trans_cac_code_1  \\\n",
       "0               72.61     shell kings 587  ************5770             K020   \n",
       "1               85.51  shell fiveways 387  ************1147             K020   \n",
       "2               10.09  shell fiveways 387  ************1147             K020   \n",
       "3               20.00  mibsons service st  ************5804             K020   \n",
       "4               50.00  malthurst petroleu  ************5804             K020   \n",
       "\n",
       "  trans_cac_desc_1 trans_cac_code_2         trans_cac_desc_2 trans_cac_code_3  \\\n",
       "0     Vehicle Fuel            RV12N     African-Caribbean DC              A00   \n",
       "1     Vehicle Fuel            RV1K2  Elders Group - Ladywood              A00   \n",
       "2     Vehicle Fuel            RV1K2  Elders Group - Ladywood              A00   \n",
       "3     Vehicle Fuel            RVA12     Enablement Tyburn Rd              A00   \n",
       "4     Vehicle Fuel            RVA12     Enablement Tyburn Rd              A00   \n",
       "\n",
       "  directorate_completed  \n",
       "0   Adult & Communities  \n",
       "1   Adult & Communities  \n",
       "2   Adult & Communities  \n",
       "3   Adult & Communities  \n",
       "4   Adult & Communities  "
      ]
     },
     "execution_count": 9,
     "metadata": {},
     "output_type": "execute_result"
    }
   ],
   "source": [
    "cols = ['unnamed', 'directorate', 'original_cur', 'billing_gross_amt', 'billing_cur_code', 'billing_cur_code_1', 'trans_tax_amt', 'trans_vat_desc']\n",
    "df.drop(columns=cols, inplace=True)\n",
    "df.info()\n",
    "df.head()"
   ]
  },
  {
   "cell_type": "markdown",
   "id": "fc5ce573-12eb-4165-98d8-77c0f188375f",
   "metadata": {},
   "source": [
    "**Analisis**\n",
    "1. Based on the comments above the columns original_cur, billing_gross_amt, billing_cur_code, billing_cur_code_1 and trans_tax_amt will be deleted from the dataframe.\n",
    "2. Based on the nullity matrix and the cell above the columns **unnamed** and **directorate** will be deleted after is used to complete the **directorate_completed** column.\n",
    "3. The column named **directorate_completed** have the **directorate** column completed with the column **unnamed**, and reduced the null values from 4697 to 738 (84.3% of reduction)."
   ]
  },
  {
   "cell_type": "code",
   "execution_count": 10,
   "id": "43a4823d-1206-461e-9ffd-ab8f600c8c65",
   "metadata": {},
   "outputs": [
    {
     "data": {
      "text/plain": [
       "<AxesSubplot:>"
      ]
     },
     "execution_count": 10,
     "metadata": {},
     "output_type": "execute_result"
    },
    {
     "data": {
      "image/png": "[encoded data removed]",
      "text/plain": [
       "<Figure size 1440x864 with 2 Axes>"
      ]
     },
     "metadata": {
      "needs_background": "light"
     },
     "output_type": "display_data"
    }
   ],
   "source": [
    "msno.heatmap(df.sort_values(by=['file_name', 'sheet_name']))"
   ]
  },
  {
   "cell_type": "markdown",
   "id": "a1e6ab15-7384-4e89-9da4-5a5518a61de3",
   "metadata": {},
   "source": [
    "**Note**: The columns **trans_cac_code_1**, **trans_cac_desc_1**, **trans_cac_code_2**, **trans_cac_desc_2** have a strong correlation on the absence of variables, that could mean that are missing from the source of the data.  \n",
    "\n",
    "Imputing classes:  \n",
    "1. **trans_cac_code_1**: i will group the non null dataset by **trans_cac_code_2** and **trans_cac_code_1** and identify the mode of **trans_cac_code_1** by each **trans_cac_code_2**, and use it to impute the values of **trans_cac_code_1_imputed**.\n",
    "2. **trans_cac_desc_1**: i will group the non null dataset by  **trans_cac_code_1** and **trans_cac_desc_1** to fill the new column named **trans_cac_desc_1_imputed** crossing by **trans_cac_code_1**.\n",
    "3. **trans_cac_code_2**: i will group the non null dataset by **trans_cac_code_3** and **trans_cac_code_2** and identify the mode of **trans_cac_code_2** by each **trans_cac_code_3**, and use it to impute the values of **trans_cac_code_2_imputed**.\n",
    "4. **trans_cac_desc_2**: i will group the non null dataset by  **trans_cac_code_2** and **trans_cac_desc_2** to fill the new column named **trans_cac_desc_2_imputed** crossing by **trans_cac_code_2**.\n",
    "5. **Drop Columns**: Drop the temporal columns used for the process."
   ]
  },
  {
   "cell_type": "markdown",
   "id": "a54dc29e-77e6-45b6-b6ee-9fbf0b6f8ecb",
   "metadata": {},
   "source": [
    "### 1. trans_cac_code_1_imputed"
   ]
  },
  {
   "cell_type": "markdown",
   "id": "ed40e7be-be7b-468c-98e8-eafe79d9823a",
   "metadata": {},
   "source": [
    "**1.1** Creating the dimensions table with unique **trans_cac_code_2** with the mos frecuent value of **trans_cac_code_1**"
   ]
  },
  {
   "cell_type": "code",
   "execution_count": 11,
   "id": "3aa6b83a-5f62-4899-a154-8d05a865e9d6",
   "metadata": {},
   "outputs": [
    {
     "data": {
      "text/html": [
       "<div>\n",
       "<style scoped>\n",
       "    .dataframe tbody tr th:only-of-type {\n",
       "        vertical-align: middle;\n",
       "    }\n",
       "\n",
       "    .dataframe tbody tr th {\n",
       "        vertical-align: top;\n",
       "    }\n",
       "\n",
       "    .dataframe thead th {\n",
       "        text-align: right;\n",
       "    }\n",
       "</style>\n",
       "<table border=\"1\" class=\"dataframe\">\n",
       "  <thead>\n",
       "    <tr style=\"text-align: right;\">\n",
       "      <th></th>\n",
       "      <th>trans_cac_code_2</th>\n",
       "      <th>trans_cac_code_1</th>\n",
       "      <th>#</th>\n",
       "    </tr>\n",
       "  </thead>\n",
       "  <tbody>\n",
       "    <tr>\n",
       "      <th>6382</th>\n",
       "      <td>RJADC</td>\n",
       "      <td>N060</td>\n",
       "      <td>8383</td>\n",
       "    </tr>\n",
       "    <tr>\n",
       "      <th>8247</th>\n",
       "      <td>RUF0F</td>\n",
       "      <td>H0R0</td>\n",
       "      <td>6012</td>\n",
       "    </tr>\n",
       "    <tr>\n",
       "      <th>292</th>\n",
       "      <td>RBF40</td>\n",
       "      <td>K020</td>\n",
       "      <td>1374</td>\n",
       "    </tr>\n",
       "    <tr>\n",
       "      <th>8437</th>\n",
       "      <td>RV014</td>\n",
       "      <td>L0J0</td>\n",
       "      <td>1299</td>\n",
       "    </tr>\n",
       "    <tr>\n",
       "      <th>1163</th>\n",
       "      <td>REAAB</td>\n",
       "      <td>L220</td>\n",
       "      <td>1204</td>\n",
       "    </tr>\n",
       "  </tbody>\n",
       "</table>\n",
       "</div>"
      ],
      "text/plain": [
       "     trans_cac_code_2 trans_cac_code_1     #\n",
       "6382            RJADC             N060  8383\n",
       "8247            RUF0F             H0R0  6012\n",
       "292             RBF40             K020  1374\n",
       "8437            RV014             L0J0  1299\n",
       "1163            REAAB             L220  1204"
      ]
     },
     "execution_count": 11,
     "metadata": {},
     "output_type": "execute_result"
    }
   ],
   "source": [
    "df_to_impute = df.groupby(\n",
    "    ['trans_cac_code_2', 'trans_cac_code_1'],\n",
    "    as_index=False\n",
    ")['sheet_name'].count().sort_values(by='sheet_name', ascending=False).drop_duplicates(subset='trans_cac_code_2', keep='first').rename(columns={'sheet_name':'#'})\n",
    "\n",
    "df_to_impute.head()"
   ]
  },
  {
   "cell_type": "markdown",
   "id": "dce40e07-fb40-44ed-86e3-18bb28a01ee5",
   "metadata": {},
   "source": [
    "**1.2** Merging the dataframes df with the df_to_impute to create the column **trans_cac_code_1_to_impute** on df."
   ]
  },
  {
   "cell_type": "code",
   "execution_count": 12,
   "id": "b8d513ad-ff80-4210-905a-7f00ecca4c7b",
   "metadata": {},
   "outputs": [],
   "source": [
    "df['trans_cac_code_1_to_impute'] = pd.merge(\n",
    "    left = df,\n",
    "    right = df_to_impute,\n",
    "    how = 'left',\n",
    "    on = 'trans_cac_code_2',\n",
    "    indicator = 'cruce'\n",
    ")['trans_cac_code_1_y']"
   ]
  },
  {
   "cell_type": "markdown",
   "id": "445ef676-352f-4c51-9ea1-58a39fd88887",
   "metadata": {},
   "source": [
    "**1.3** Creating the column **trans_cac_code_1_imputed** on df imputing the null values of **trans_cac_code_1** with the **trans_cac_code_1_to_impute**."
   ]
  },
  {
   "cell_type": "code",
   "execution_count": 13,
   "id": "3f3f8c9f-7b0c-4edd-bd88-ba2d6c95680a",
   "metadata": {},
   "outputs": [],
   "source": [
    "df['trans_cac_code_1_imputed'] = df.apply(lambda x: x['trans_cac_code_1_to_impute'] if str(x['trans_cac_code_1'])=='nan' else x['trans_cac_code_1'], axis=1)"
   ]
  },
  {
   "cell_type": "markdown",
   "id": "a6750520-0be8-43b2-9e6f-fb6b4cd18954",
   "metadata": {},
   "source": [
    "### 2. trans_cac_desc_1_imputed"
   ]
  },
  {
   "cell_type": "markdown",
   "id": "4ee437b3-4dc8-4eb6-969f-1a5adf6964ce",
   "metadata": {},
   "source": [
    "**2.1** Creating the dimensions table with unique **trans_cac_code_2** with the most frecuent value of **trans_cac_code_1**"
   ]
  },
  {
   "cell_type": "code",
   "execution_count": 14,
   "id": "5fd813c5-9434-4523-92f9-9f9e58fe0050",
   "metadata": {},
   "outputs": [
    {
     "name": "stdout",
     "output_type": "stream",
     "text": [
      "Number of duplicated trans_cac_code_1: 0\n",
      "\n"
     ]
    },
    {
     "data": {
      "text/html": [
       "<div>\n",
       "<style scoped>\n",
       "    .dataframe tbody tr th:only-of-type {\n",
       "        vertical-align: middle;\n",
       "    }\n",
       "\n",
       "    .dataframe tbody tr th {\n",
       "        vertical-align: top;\n",
       "    }\n",
       "\n",
       "    .dataframe thead th {\n",
       "        text-align: right;\n",
       "    }\n",
       "</style>\n",
       "<table border=\"1\" class=\"dataframe\">\n",
       "  <thead>\n",
       "    <tr style=\"text-align: right;\">\n",
       "      <th></th>\n",
       "      <th>trans_cac_code_1</th>\n",
       "      <th>trans_cac_desc_1</th>\n",
       "      <th>#</th>\n",
       "    </tr>\n",
       "  </thead>\n",
       "  <tbody>\n",
       "    <tr>\n",
       "      <th>72</th>\n",
       "      <td>L100</td>\n",
       "      <td>Equip Operational</td>\n",
       "      <td>34433</td>\n",
       "    </tr>\n",
       "    <tr>\n",
       "      <th>46</th>\n",
       "      <td>K020</td>\n",
       "      <td>Vehicle Fuel</td>\n",
       "      <td>22907</td>\n",
       "    </tr>\n",
       "    <tr>\n",
       "      <th>77</th>\n",
       "      <td>L220</td>\n",
       "      <td>Purchases Food</td>\n",
       "      <td>20606</td>\n",
       "    </tr>\n",
       "    <tr>\n",
       "      <th>62</th>\n",
       "      <td>L030</td>\n",
       "      <td>Books</td>\n",
       "      <td>11611</td>\n",
       "    </tr>\n",
       "    <tr>\n",
       "      <th>125</th>\n",
       "      <td>MC70</td>\n",
       "      <td>Supplies &amp; Sev Mic</td>\n",
       "      <td>10761</td>\n",
       "    </tr>\n",
       "  </tbody>\n",
       "</table>\n",
       "</div>"
      ],
      "text/plain": [
       "    trans_cac_code_1    trans_cac_desc_1      #\n",
       "72              L100   Equip Operational  34433\n",
       "46              K020        Vehicle Fuel  22907\n",
       "77              L220      Purchases Food  20606\n",
       "62              L030               Books  11611\n",
       "125             MC70  Supplies & Sev Mic  10761"
      ]
     },
     "execution_count": 14,
     "metadata": {},
     "output_type": "execute_result"
    }
   ],
   "source": [
    "cols = ['trans_cac_code_1', 'trans_cac_desc_1', 'sheet_name']\n",
    "df_trans_cac_1 = df[cols].groupby(cols[:-1], as_index=False)[cols[-1]].count().sort_values(by='sheet_name', ascending=False).rename(columns={'sheet_name':'#'})\n",
    "\n",
    "print(f\"Number of duplicated trans_cac_code_1: {df_trans_cac_1.duplicated(subset='trans_cac_code_1').sum():,.0f}\\n\")\n",
    "\n",
    "df_trans_cac_1.head()"
   ]
  },
  {
   "cell_type": "markdown",
   "id": "d8a8f5f3-28db-4a72-80e0-6de1cab30b1c",
   "metadata": {},
   "source": [
    "**2.2** Merging the dataframes df with the df_trans_cac_1 to create the column **trans_cac_desc_1_imputed** on df."
   ]
  },
  {
   "cell_type": "code",
   "execution_count": 15,
   "id": "8b8fe52d-4e67-4bcc-b952-82a33c994d29",
   "metadata": {},
   "outputs": [],
   "source": [
    "df['trans_cac_desc_1_imputed'] = pd.merge(\n",
    "    left = df,\n",
    "    right = df_trans_cac_1,\n",
    "    how = 'left',\n",
    "    on = 'trans_cac_code_1',\n",
    "    indicator = 'cruce'\n",
    ")['trans_cac_desc_1_y']"
   ]
  },
  {
   "cell_type": "markdown",
   "id": "7581f10c-999f-4cb4-bf06-67d3bc3bfe62",
   "metadata": {},
   "source": [
    "### 3. trans_cac_code_2_imputed"
   ]
  },
  {
   "cell_type": "markdown",
   "id": "51b57ada-785e-49cc-8804-9ae44b0bc7a0",
   "metadata": {},
   "source": [
    "**3.1** Creating the dimensions table with unique **trans_cac_code_3** with the most frecuent value of **trans_cac_code_2**"
   ]
  },
  {
   "cell_type": "code",
   "execution_count": 16,
   "id": "eef3ebd8-eb5c-44e5-8b9e-18499eaca542",
   "metadata": {},
   "outputs": [
    {
     "data": {
      "text/html": [
       "<div>\n",
       "<style scoped>\n",
       "    .dataframe tbody tr th:only-of-type {\n",
       "        vertical-align: middle;\n",
       "    }\n",
       "\n",
       "    .dataframe tbody tr th {\n",
       "        vertical-align: top;\n",
       "    }\n",
       "\n",
       "    .dataframe thead th {\n",
       "        text-align: right;\n",
       "    }\n",
       "</style>\n",
       "<table border=\"1\" class=\"dataframe\">\n",
       "  <thead>\n",
       "    <tr style=\"text-align: right;\">\n",
       "      <th></th>\n",
       "      <th>trans_cac_code_3</th>\n",
       "      <th>trans_cac_code_2</th>\n",
       "      <th>#</th>\n",
       "    </tr>\n",
       "  </thead>\n",
       "  <tbody>\n",
       "    <tr>\n",
       "      <th>976</th>\n",
       "      <td>A00</td>\n",
       "      <td>RUF0F</td>\n",
       "      <td>13839</td>\n",
       "    </tr>\n",
       "    <tr>\n",
       "      <th>1426</th>\n",
       "      <td>A5F</td>\n",
       "      <td>REAYY</td>\n",
       "      <td>525</td>\n",
       "    </tr>\n",
       "    <tr>\n",
       "      <th>1407</th>\n",
       "      <td>A46</td>\n",
       "      <td>RET1K</td>\n",
       "      <td>43</td>\n",
       "    </tr>\n",
       "    <tr>\n",
       "      <th>1443</th>\n",
       "      <td>A8H</td>\n",
       "      <td>TA-01487-01</td>\n",
       "      <td>27</td>\n",
       "    </tr>\n",
       "    <tr>\n",
       "      <th>1422</th>\n",
       "      <td>A5D</td>\n",
       "      <td>RUBJJ</td>\n",
       "      <td>27</td>\n",
       "    </tr>\n",
       "  </tbody>\n",
       "</table>\n",
       "</div>"
      ],
      "text/plain": [
       "     trans_cac_code_3 trans_cac_code_2      #\n",
       "976               A00            RUF0F  13839\n",
       "1426              A5F            REAYY    525\n",
       "1407              A46            RET1K     43\n",
       "1443              A8H      TA-01487-01     27\n",
       "1422              A5D            RUBJJ     27"
      ]
     },
     "execution_count": 16,
     "metadata": {},
     "output_type": "execute_result"
    }
   ],
   "source": [
    "df_to_impute = df.groupby(\n",
    "    ['trans_cac_code_3', 'trans_cac_code_2'],\n",
    "    as_index=False\n",
    ")['sheet_name'].count().sort_values(by='sheet_name', ascending=False).drop_duplicates(subset='trans_cac_code_3', keep='first').rename(columns={'sheet_name':'#'})\n",
    "\n",
    "df_to_impute.head()"
   ]
  },
  {
   "cell_type": "markdown",
   "id": "9449228b-27f8-4581-a5de-07ba0db201f6",
   "metadata": {},
   "source": [
    "**3.2** Merging the dataframes df with the df_to_impute to create the column **trans_cac_code_2_to_impute** on df."
   ]
  },
  {
   "cell_type": "code",
   "execution_count": 17,
   "id": "828b788a-c0c8-4049-ae05-e897c28d7cb4",
   "metadata": {},
   "outputs": [],
   "source": [
    "df['trans_cac_code_2_to_impute'] = pd.merge(\n",
    "    left = df,\n",
    "    right = df_to_impute,\n",
    "    how = 'left',\n",
    "    on = 'trans_cac_code_3',\n",
    "    indicator = 'cruce'\n",
    ")['trans_cac_code_2_y']"
   ]
  },
  {
   "cell_type": "markdown",
   "id": "8a1e9e99-0ba5-4945-b72d-c1695322be8f",
   "metadata": {},
   "source": [
    "**3.3** Creating the column **trans_cac_code_2_imputed** on df imputing the null values of **trans_cac_code_2** with the **trans_cac_code_2_to_impute**."
   ]
  },
  {
   "cell_type": "code",
   "execution_count": 18,
   "id": "559c1a9f-81df-4181-a3aa-b1852cf622f1",
   "metadata": {},
   "outputs": [],
   "source": [
    "df['trans_cac_code_2_imputed'] = df.apply(lambda x: x['trans_cac_code_2_to_impute'] if str(x['trans_cac_code_2'])=='nan' else x['trans_cac_code_2'], axis=1)"
   ]
  },
  {
   "cell_type": "markdown",
   "id": "437cd0b8-aa9d-405e-b156-69a4eb628503",
   "metadata": {},
   "source": [
    "### 4. trans_cac_desc_2_imputed"
   ]
  },
  {
   "cell_type": "markdown",
   "id": "8c77d9e1-289e-4742-9766-026ed138b847",
   "metadata": {},
   "source": [
    "**4.1** Creating the dimensions table with unique **trans_cac_code_3** with the most frecuent value of **trans_cac_code_2**"
   ]
  },
  {
   "cell_type": "code",
   "execution_count": 19,
   "id": "711db7c3-b740-41b6-82dc-8ce0701311eb",
   "metadata": {},
   "outputs": [
    {
     "name": "stdout",
     "output_type": "stream",
     "text": [
      "Number of duplicated trans_cac_code_2: 3\n",
      "\n"
     ]
    },
    {
     "data": {
      "text/html": [
       "<div>\n",
       "<style scoped>\n",
       "    .dataframe tbody tr th:only-of-type {\n",
       "        vertical-align: middle;\n",
       "    }\n",
       "\n",
       "    .dataframe tbody tr th {\n",
       "        vertical-align: top;\n",
       "    }\n",
       "\n",
       "    .dataframe thead th {\n",
       "        text-align: right;\n",
       "    }\n",
       "</style>\n",
       "<table border=\"1\" class=\"dataframe\">\n",
       "  <thead>\n",
       "    <tr style=\"text-align: right;\">\n",
       "      <th></th>\n",
       "      <th>trans_cac_code_2</th>\n",
       "      <th>trans_cac_desc_2</th>\n",
       "      <th>#</th>\n",
       "    </tr>\n",
       "  </thead>\n",
       "  <tbody>\n",
       "    <tr>\n",
       "      <th>984</th>\n",
       "      <td>RUF0F</td>\n",
       "      <td>Illegal Money Lending T Stds Comm Inv.</td>\n",
       "      <td>13839</td>\n",
       "    </tr>\n",
       "    <tr>\n",
       "      <th>642</th>\n",
       "      <td>RJADC</td>\n",
       "      <td>Homeless Private Sector Accom</td>\n",
       "      <td>8558</td>\n",
       "    </tr>\n",
       "    <tr>\n",
       "      <th>228</th>\n",
       "      <td>REAAB</td>\n",
       "      <td>The City of Birmingham School</td>\n",
       "      <td>5058</td>\n",
       "    </tr>\n",
       "    <tr>\n",
       "      <th>1001</th>\n",
       "      <td>RV014</td>\n",
       "      <td>Camborne House HLDC</td>\n",
       "      <td>3121</td>\n",
       "    </tr>\n",
       "    <tr>\n",
       "      <th>698</th>\n",
       "      <td>RLBMC</td>\n",
       "      <td>Technical Unit</td>\n",
       "      <td>2596</td>\n",
       "    </tr>\n",
       "  </tbody>\n",
       "</table>\n",
       "</div>"
      ],
      "text/plain": [
       "     trans_cac_code_2                        trans_cac_desc_2      #\n",
       "984             RUF0F  Illegal Money Lending T Stds Comm Inv.  13839\n",
       "642             RJADC           Homeless Private Sector Accom   8558\n",
       "228             REAAB           The City of Birmingham School   5058\n",
       "1001            RV014                     Camborne House HLDC   3121\n",
       "698             RLBMC                          Technical Unit   2596"
      ]
     },
     "execution_count": 19,
     "metadata": {},
     "output_type": "execute_result"
    }
   ],
   "source": [
    "cols = ['trans_cac_code_2', 'trans_cac_desc_2', 'sheet_name']\n",
    "df_trans_cac_2 = df[cols].groupby(cols[:-1], as_index=False)[cols[-1]].count().sort_values(by='sheet_name', ascending=False).rename(columns={'sheet_name':'#'})\n",
    "\n",
    "print(f\"Number of duplicated trans_cac_code_2: {df_trans_cac_2.duplicated(subset='trans_cac_code_2').sum():,.0f}\\n\")\n",
    "\n",
    "df_trans_cac_2.head()"
   ]
  },
  {
   "cell_type": "markdown",
   "id": "5e7a4a68-3da8-4ac2-9c64-ec046c187812",
   "metadata": {},
   "source": [
    "**4.2** Merging the dataframes df with the df_trans_cac_2 to create the column **trans_cac_desc_2_imputed** on df."
   ]
  },
  {
   "cell_type": "code",
   "execution_count": 20,
   "id": "a6f8454d-8173-4ee5-8045-375b800f1bbd",
   "metadata": {},
   "outputs": [],
   "source": [
    "df['trans_cac_desc_2_imputed'] = pd.merge(\n",
    "    left = df,\n",
    "    right = df_trans_cac_2,\n",
    "    how = 'left',\n",
    "    on = 'trans_cac_code_2',\n",
    "    indicator = 'cruce'\n",
    ")['trans_cac_desc_2_y']"
   ]
  },
  {
   "cell_type": "markdown",
   "id": "8556e233-58cb-4095-a9fa-b2363211198c",
   "metadata": {},
   "source": [
    "### 5. Drop Columns"
   ]
  },
  {
   "cell_type": "markdown",
   "id": "1c30aa5a-c454-4672-ae09-b71f3dabeec1",
   "metadata": {},
   "source": [
    "**5.1** Droping columns\n",
    "1. Temporal columns used to the impute process: **trans_cac_code_1**, **trans_cac_desc_1**, **trans_cac_code_2**, **trans_cac_desc_2**, **trans_cac_code_1_to_impute**, **trans_cac_code_2_to_impute**\n",
    "2. Columns that will not going to be used into the analisis:\n",
    "    - **trans_cac_code_3**: We don't have info about the meaning of each code or the name of the class. The codes of **trans_cac_code_3** are diferent than the codes of **trans_cac_code_1** or **trans_cac_code_2**"
   ]
  },
  {
   "cell_type": "code",
   "execution_count": 21,
   "id": "cbc130f3-b393-4797-b2fc-94c68eb382bf",
   "metadata": {},
   "outputs": [],
   "source": [
    "cols = ['trans_cac_code_1', 'trans_cac_desc_1', 'trans_cac_code_2', 'trans_cac_desc_2', 'trans_cac_code_1_to_impute', 'trans_cac_code_2_to_impute', 'trans_cac_code_3']\n",
    "df.drop(columns=cols, inplace=True)"
   ]
  },
  {
   "cell_type": "markdown",
   "id": "fcc2ed4f-4c48-4801-bcd8-0ed3d24c52eb",
   "metadata": {},
   "source": [
    "**5.2** Sort columns on df"
   ]
  },
  {
   "cell_type": "code",
   "execution_count": 22,
   "id": "e95ee025-e477-43b6-b776-c28c8c6b89ec",
   "metadata": {},
   "outputs": [
    {
     "name": "stdout",
     "output_type": "stream",
     "text": [
      "<class 'pandas.core.frame.DataFrame'>\n",
      "Int64Index: 185908 entries, 0 to 185908\n",
      "Data columns (total 11 columns):\n",
      " #   Column                    Non-Null Count   Dtype  \n",
      "---  ------                    --------------   -----  \n",
      " 0   file_name                 185908 non-null  object \n",
      " 1   sheet_name                185908 non-null  object \n",
      " 2   trans_date                185908 non-null  object \n",
      " 3   original_gross_amt        185908 non-null  float64\n",
      " 4   merchant_name             185908 non-null  object \n",
      " 5   card_number               185908 non-null  object \n",
      " 6   trans_cac_code_1_imputed  185903 non-null  object \n",
      " 7   trans_cac_desc_1_imputed  185803 non-null  object \n",
      " 8   trans_cac_code_2_imputed  185758 non-null  object \n",
      " 9   trans_cac_desc_2_imputed  185673 non-null  object \n",
      " 10  directorate_completed     185170 non-null  object \n",
      "dtypes: float64(1), object(10)\n",
      "memory usage: 17.0+ MB\n"
     ]
    },
    {
     "data": {
      "text/html": [
       "<div>\n",
       "<style scoped>\n",
       "    .dataframe tbody tr th:only-of-type {\n",
       "        vertical-align: middle;\n",
       "    }\n",
       "\n",
       "    .dataframe tbody tr th {\n",
       "        vertical-align: top;\n",
       "    }\n",
       "\n",
       "    .dataframe thead th {\n",
       "        text-align: right;\n",
       "    }\n",
       "</style>\n",
       "<table border=\"1\" class=\"dataframe\">\n",
       "  <thead>\n",
       "    <tr style=\"text-align: right;\">\n",
       "      <th></th>\n",
       "      <th>file_name</th>\n",
       "      <th>sheet_name</th>\n",
       "      <th>trans_date</th>\n",
       "      <th>original_gross_amt</th>\n",
       "      <th>merchant_name</th>\n",
       "      <th>card_number</th>\n",
       "      <th>trans_cac_code_1_imputed</th>\n",
       "      <th>trans_cac_desc_1_imputed</th>\n",
       "      <th>trans_cac_code_2_imputed</th>\n",
       "      <th>trans_cac_desc_2_imputed</th>\n",
       "      <th>directorate_completed</th>\n",
       "    </tr>\n",
       "  </thead>\n",
       "  <tbody>\n",
       "    <tr>\n",
       "      <th>0</th>\n",
       "      <td>cusersfinainmndesktoppublish-copy-january-2017...</td>\n",
       "      <td>Sheet1</td>\n",
       "      <td>2017-01-03</td>\n",
       "      <td>72.61</td>\n",
       "      <td>shell kings 587</td>\n",
       "      <td>************5770</td>\n",
       "      <td>K020</td>\n",
       "      <td>Vehicle Fuel</td>\n",
       "      <td>RV12N</td>\n",
       "      <td>African-Caribbean DC</td>\n",
       "      <td>Adult &amp; Communities</td>\n",
       "    </tr>\n",
       "    <tr>\n",
       "      <th>1</th>\n",
       "      <td>cusersfinainmndesktoppublish-copy-january-2017...</td>\n",
       "      <td>Sheet1</td>\n",
       "      <td>2017-01-24</td>\n",
       "      <td>85.51</td>\n",
       "      <td>shell fiveways 387</td>\n",
       "      <td>************1147</td>\n",
       "      <td>K020</td>\n",
       "      <td>Vehicle Fuel</td>\n",
       "      <td>RV1K2</td>\n",
       "      <td>Elders Group - Ladywood</td>\n",
       "      <td>Adult &amp; Communities</td>\n",
       "    </tr>\n",
       "    <tr>\n",
       "      <th>2</th>\n",
       "      <td>cusersfinainmndesktoppublish-copy-january-2017...</td>\n",
       "      <td>Sheet1</td>\n",
       "      <td>2017-02-01</td>\n",
       "      <td>10.09</td>\n",
       "      <td>shell fiveways 387</td>\n",
       "      <td>************1147</td>\n",
       "      <td>K020</td>\n",
       "      <td>Vehicle Fuel</td>\n",
       "      <td>RV1K2</td>\n",
       "      <td>Elders Group - Ladywood</td>\n",
       "      <td>Adult &amp; Communities</td>\n",
       "    </tr>\n",
       "    <tr>\n",
       "      <th>3</th>\n",
       "      <td>cusersfinainmndesktoppublish-copy-january-2017...</td>\n",
       "      <td>Sheet1</td>\n",
       "      <td>2017-01-04</td>\n",
       "      <td>20.00</td>\n",
       "      <td>mibsons service st</td>\n",
       "      <td>************5804</td>\n",
       "      <td>K020</td>\n",
       "      <td>Vehicle Fuel</td>\n",
       "      <td>RVA12</td>\n",
       "      <td>Enablement Tyburn Rd</td>\n",
       "      <td>Adult &amp; Communities</td>\n",
       "    </tr>\n",
       "    <tr>\n",
       "      <th>4</th>\n",
       "      <td>cusersfinainmndesktoppublish-copy-january-2017...</td>\n",
       "      <td>Sheet1</td>\n",
       "      <td>2017-01-05</td>\n",
       "      <td>50.00</td>\n",
       "      <td>malthurst petroleu</td>\n",
       "      <td>************5804</td>\n",
       "      <td>K020</td>\n",
       "      <td>Vehicle Fuel</td>\n",
       "      <td>RVA12</td>\n",
       "      <td>Enablement Tyburn Rd</td>\n",
       "      <td>Adult &amp; Communities</td>\n",
       "    </tr>\n",
       "  </tbody>\n",
       "</table>\n",
       "</div>"
      ],
      "text/plain": [
       "                                           file_name sheet_name  trans_date  \\\n",
       "0  cusersfinainmndesktoppublish-copy-january-2017...     Sheet1  2017-01-03   \n",
       "1  cusersfinainmndesktoppublish-copy-january-2017...     Sheet1  2017-01-24   \n",
       "2  cusersfinainmndesktoppublish-copy-january-2017...     Sheet1  2017-02-01   \n",
       "3  cusersfinainmndesktoppublish-copy-january-2017...     Sheet1  2017-01-04   \n",
       "4  cusersfinainmndesktoppublish-copy-january-2017...     Sheet1  2017-01-05   \n",
       "\n",
       "   original_gross_amt       merchant_name       card_number  \\\n",
       "0               72.61     shell kings 587  ************5770   \n",
       "1               85.51  shell fiveways 387  ************1147   \n",
       "2               10.09  shell fiveways 387  ************1147   \n",
       "3               20.00  mibsons service st  ************5804   \n",
       "4               50.00  malthurst petroleu  ************5804   \n",
       "\n",
       "  trans_cac_code_1_imputed trans_cac_desc_1_imputed trans_cac_code_2_imputed  \\\n",
       "0                     K020             Vehicle Fuel                    RV12N   \n",
       "1                     K020             Vehicle Fuel                    RV1K2   \n",
       "2                     K020             Vehicle Fuel                    RV1K2   \n",
       "3                     K020             Vehicle Fuel                    RVA12   \n",
       "4                     K020             Vehicle Fuel                    RVA12   \n",
       "\n",
       "  trans_cac_desc_2_imputed directorate_completed  \n",
       "0     African-Caribbean DC   Adult & Communities  \n",
       "1  Elders Group - Ladywood   Adult & Communities  \n",
       "2  Elders Group - Ladywood   Adult & Communities  \n",
       "3     Enablement Tyburn Rd   Adult & Communities  \n",
       "4     Enablement Tyburn Rd   Adult & Communities  "
      ]
     },
     "execution_count": 22,
     "metadata": {},
     "output_type": "execute_result"
    }
   ],
   "source": [
    "cols = ['file_name', 'sheet_name', 'trans_date', 'original_gross_amt', 'merchant_name', 'card_number', 'trans_cac_code_1_imputed',\n",
    "        'trans_cac_desc_1_imputed', 'trans_cac_code_2_imputed', 'trans_cac_desc_2_imputed', 'directorate_completed']\n",
    "df = df[cols].copy()\n",
    "df.info()\n",
    "df.head()"
   ]
  },
  {
   "cell_type": "code",
   "execution_count": 23,
   "id": "a459dd1e-2876-47fa-a74d-5ba59be93d61",
   "metadata": {},
   "outputs": [
    {
     "data": {
      "text/plain": [
       "<AxesSubplot:>"
      ]
     },
     "execution_count": 23,
     "metadata": {},
     "output_type": "execute_result"
    },
    {
     "data": {
      "image/png": "[encoded data removed]",
      "text/plain": [
       "<Figure size 1800x720 with 2 Axes>"
      ]
     },
     "metadata": {
      "needs_background": "light"
     },
     "output_type": "display_data"
    }
   ],
   "source": [
    "msno.matrix(df.sort_values(by=['file_name', 'sheet_name']))"
   ]
  },
  {
   "cell_type": "markdown",
   "id": "0547297f-6852-4072-b1a9-03da5b05130c",
   "metadata": {},
   "source": [
    "### Nulls after imputation by class process"
   ]
  },
  {
   "cell_type": "code",
   "execution_count": 24,
   "id": "889aad1c-f2f8-47cc-b967-2d078e65ef0c",
   "metadata": {},
   "outputs": [
    {
     "data": {
      "text/html": [
       "<div>\n",
       "<style scoped>\n",
       "    .dataframe tbody tr th:only-of-type {\n",
       "        vertical-align: middle;\n",
       "    }\n",
       "\n",
       "    .dataframe tbody tr th {\n",
       "        vertical-align: top;\n",
       "    }\n",
       "\n",
       "    .dataframe thead th {\n",
       "        text-align: right;\n",
       "    }\n",
       "</style>\n",
       "<table border=\"1\" class=\"dataframe\">\n",
       "  <thead>\n",
       "    <tr style=\"text-align: right;\">\n",
       "      <th></th>\n",
       "      <th>column</th>\n",
       "      <th>#</th>\n",
       "      <th>%</th>\n",
       "    </tr>\n",
       "  </thead>\n",
       "  <tbody>\n",
       "    <tr>\n",
       "      <th>0</th>\n",
       "      <td>file_name</td>\n",
       "      <td>0</td>\n",
       "      <td>0.00%</td>\n",
       "    </tr>\n",
       "    <tr>\n",
       "      <th>1</th>\n",
       "      <td>sheet_name</td>\n",
       "      <td>0</td>\n",
       "      <td>0.00%</td>\n",
       "    </tr>\n",
       "    <tr>\n",
       "      <th>2</th>\n",
       "      <td>trans_date</td>\n",
       "      <td>0</td>\n",
       "      <td>0.00%</td>\n",
       "    </tr>\n",
       "    <tr>\n",
       "      <th>3</th>\n",
       "      <td>original_gross_amt</td>\n",
       "      <td>0</td>\n",
       "      <td>0.00%</td>\n",
       "    </tr>\n",
       "    <tr>\n",
       "      <th>4</th>\n",
       "      <td>merchant_name</td>\n",
       "      <td>0</td>\n",
       "      <td>0.00%</td>\n",
       "    </tr>\n",
       "    <tr>\n",
       "      <th>5</th>\n",
       "      <td>card_number</td>\n",
       "      <td>0</td>\n",
       "      <td>0.00%</td>\n",
       "    </tr>\n",
       "    <tr>\n",
       "      <th>6</th>\n",
       "      <td>trans_cac_code_1_imputed</td>\n",
       "      <td>5</td>\n",
       "      <td>0.00%</td>\n",
       "    </tr>\n",
       "    <tr>\n",
       "      <th>7</th>\n",
       "      <td>trans_cac_desc_1_imputed</td>\n",
       "      <td>105</td>\n",
       "      <td>0.06%</td>\n",
       "    </tr>\n",
       "    <tr>\n",
       "      <th>8</th>\n",
       "      <td>trans_cac_code_2_imputed</td>\n",
       "      <td>150</td>\n",
       "      <td>0.08%</td>\n",
       "    </tr>\n",
       "    <tr>\n",
       "      <th>9</th>\n",
       "      <td>trans_cac_desc_2_imputed</td>\n",
       "      <td>235</td>\n",
       "      <td>0.13%</td>\n",
       "    </tr>\n",
       "    <tr>\n",
       "      <th>10</th>\n",
       "      <td>directorate_completed</td>\n",
       "      <td>738</td>\n",
       "      <td>0.40%</td>\n",
       "    </tr>\n",
       "  </tbody>\n",
       "</table>\n",
       "</div>"
      ],
      "text/plain": [
       "                      column    #      %\n",
       "0                  file_name    0  0.00%\n",
       "1                 sheet_name    0  0.00%\n",
       "2                 trans_date    0  0.00%\n",
       "3         original_gross_amt    0  0.00%\n",
       "4              merchant_name    0  0.00%\n",
       "5                card_number    0  0.00%\n",
       "6   trans_cac_code_1_imputed    5  0.00%\n",
       "7   trans_cac_desc_1_imputed  105  0.06%\n",
       "8   trans_cac_code_2_imputed  150  0.08%\n",
       "9   trans_cac_desc_2_imputed  235  0.13%\n",
       "10     directorate_completed  738  0.40%"
      ]
     },
     "execution_count": 24,
     "metadata": {},
     "output_type": "execute_result"
    }
   ],
   "source": [
    "null_df = df.isna().sum().reset_index().rename(columns={0:'#', 'index':'column'})\n",
    "null_df['%'] = null_df['#'].apply(lambda x: f\"{x/df.shape[0]:.2%}\")\n",
    "null_df"
   ]
  },
  {
   "cell_type": "markdown",
   "id": "8708da3e-6f36-4ad6-9800-b0fae99b701f",
   "metadata": {},
   "source": [
    "**Note**: The next values will be imputed by the mode of the total column."
   ]
  },
  {
   "cell_type": "code",
   "execution_count": 25,
   "id": "59de270b-c812-4564-97ab-95e2addb89ff",
   "metadata": {},
   "outputs": [],
   "source": [
    "cols = ['trans_cac_code_1_imputed', 'trans_cac_desc_1_imputed', 'trans_cac_code_2_imputed', 'trans_cac_desc_2_imputed', 'directorate_completed']\n",
    "for col in cols:\n",
    "    df[col].fillna(df[col].mode().values[0], inplace=True)"
   ]
  },
  {
   "cell_type": "code",
   "execution_count": 26,
   "id": "bfe70fa3-8695-4ce9-910b-1610b5f79b23",
   "metadata": {},
   "outputs": [
    {
     "data": {
      "text/html": [
       "<div>\n",
       "<style scoped>\n",
       "    .dataframe tbody tr th:only-of-type {\n",
       "        vertical-align: middle;\n",
       "    }\n",
       "\n",
       "    .dataframe tbody tr th {\n",
       "        vertical-align: top;\n",
       "    }\n",
       "\n",
       "    .dataframe thead th {\n",
       "        text-align: right;\n",
       "    }\n",
       "</style>\n",
       "<table border=\"1\" class=\"dataframe\">\n",
       "  <thead>\n",
       "    <tr style=\"text-align: right;\">\n",
       "      <th></th>\n",
       "      <th>column</th>\n",
       "      <th>#</th>\n",
       "      <th>%</th>\n",
       "    </tr>\n",
       "  </thead>\n",
       "  <tbody>\n",
       "    <tr>\n",
       "      <th>0</th>\n",
       "      <td>file_name</td>\n",
       "      <td>0</td>\n",
       "      <td>0.00%</td>\n",
       "    </tr>\n",
       "    <tr>\n",
       "      <th>1</th>\n",
       "      <td>sheet_name</td>\n",
       "      <td>0</td>\n",
       "      <td>0.00%</td>\n",
       "    </tr>\n",
       "    <tr>\n",
       "      <th>2</th>\n",
       "      <td>trans_date</td>\n",
       "      <td>0</td>\n",
       "      <td>0.00%</td>\n",
       "    </tr>\n",
       "    <tr>\n",
       "      <th>3</th>\n",
       "      <td>original_gross_amt</td>\n",
       "      <td>0</td>\n",
       "      <td>0.00%</td>\n",
       "    </tr>\n",
       "    <tr>\n",
       "      <th>4</th>\n",
       "      <td>merchant_name</td>\n",
       "      <td>0</td>\n",
       "      <td>0.00%</td>\n",
       "    </tr>\n",
       "    <tr>\n",
       "      <th>5</th>\n",
       "      <td>card_number</td>\n",
       "      <td>0</td>\n",
       "      <td>0.00%</td>\n",
       "    </tr>\n",
       "    <tr>\n",
       "      <th>6</th>\n",
       "      <td>trans_cac_code_1_imputed</td>\n",
       "      <td>0</td>\n",
       "      <td>0.00%</td>\n",
       "    </tr>\n",
       "    <tr>\n",
       "      <th>7</th>\n",
       "      <td>trans_cac_desc_1_imputed</td>\n",
       "      <td>0</td>\n",
       "      <td>0.00%</td>\n",
       "    </tr>\n",
       "    <tr>\n",
       "      <th>8</th>\n",
       "      <td>trans_cac_code_2_imputed</td>\n",
       "      <td>0</td>\n",
       "      <td>0.00%</td>\n",
       "    </tr>\n",
       "    <tr>\n",
       "      <th>9</th>\n",
       "      <td>trans_cac_desc_2_imputed</td>\n",
       "      <td>0</td>\n",
       "      <td>0.00%</td>\n",
       "    </tr>\n",
       "    <tr>\n",
       "      <th>10</th>\n",
       "      <td>directorate_completed</td>\n",
       "      <td>0</td>\n",
       "      <td>0.00%</td>\n",
       "    </tr>\n",
       "  </tbody>\n",
       "</table>\n",
       "</div>"
      ],
      "text/plain": [
       "                      column  #      %\n",
       "0                  file_name  0  0.00%\n",
       "1                 sheet_name  0  0.00%\n",
       "2                 trans_date  0  0.00%\n",
       "3         original_gross_amt  0  0.00%\n",
       "4              merchant_name  0  0.00%\n",
       "5                card_number  0  0.00%\n",
       "6   trans_cac_code_1_imputed  0  0.00%\n",
       "7   trans_cac_desc_1_imputed  0  0.00%\n",
       "8   trans_cac_code_2_imputed  0  0.00%\n",
       "9   trans_cac_desc_2_imputed  0  0.00%\n",
       "10     directorate_completed  0  0.00%"
      ]
     },
     "execution_count": 26,
     "metadata": {},
     "output_type": "execute_result"
    }
   ],
   "source": [
    "null_df = df.isna().sum().reset_index().rename(columns={0:'#', 'index':'column'})\n",
    "null_df['%'] = null_df['#'].apply(lambda x: f\"{x/df.shape[0]:.2%}\")\n",
    "null_df"
   ]
  },
  {
   "cell_type": "markdown",
   "id": "78c0e46e-94c5-4819-bf66-d2a8b9793753",
   "metadata": {},
   "source": [
    "___________\n",
    "### Review duplicated data (complete row)"
   ]
  },
  {
   "cell_type": "code",
   "execution_count": 27,
   "id": "9964bde1-50c4-4bde-9123-d049d53183ed",
   "metadata": {},
   "outputs": [
    {
     "name": "stdout",
     "output_type": "stream",
     "text": [
      "Rows number: 185,908\n",
      "Columns number: 11\n",
      "\n"
     ]
    },
    {
     "data": {
      "text/html": [
       "<div>\n",
       "<style scoped>\n",
       "    .dataframe tbody tr th:only-of-type {\n",
       "        vertical-align: middle;\n",
       "    }\n",
       "\n",
       "    .dataframe tbody tr th {\n",
       "        vertical-align: top;\n",
       "    }\n",
       "\n",
       "    .dataframe thead th {\n",
       "        text-align: right;\n",
       "    }\n",
       "</style>\n",
       "<table border=\"1\" class=\"dataframe\">\n",
       "  <thead>\n",
       "    <tr style=\"text-align: right;\">\n",
       "      <th></th>\n",
       "      <th>duplicated</th>\n",
       "      <th>#</th>\n",
       "      <th>%</th>\n",
       "    </tr>\n",
       "  </thead>\n",
       "  <tbody>\n",
       "    <tr>\n",
       "      <th>0</th>\n",
       "      <td>False</td>\n",
       "      <td>182776</td>\n",
       "      <td>98.3%</td>\n",
       "    </tr>\n",
       "    <tr>\n",
       "      <th>1</th>\n",
       "      <td>True</td>\n",
       "      <td>3132</td>\n",
       "      <td>1.7%</td>\n",
       "    </tr>\n",
       "  </tbody>\n",
       "</table>\n",
       "</div>"
      ],
      "text/plain": [
       "   duplicated       #      %\n",
       "0       False  182776  98.3%\n",
       "1        True    3132   1.7%"
      ]
     },
     "execution_count": 27,
     "metadata": {},
     "output_type": "execute_result"
    },
    {
     "data": {
      "image/png": "[encoded data removed]",
      "text/plain": [
       "<Figure size 720x360 with 1 Axes>"
      ]
     },
     "metadata": {},
     "output_type": "display_data"
    }
   ],
   "source": [
    "f, ax = plt.subplots(1,1,figsize=(10,5))\n",
    "\n",
    "print(f'Rows number: {df.shape[0]:,.0f}\\nColumns number: {df.shape[1]:,.0f}\\n')\n",
    "dup_df = df.duplicated(keep='first').value_counts(dropna=False).reset_index().rename(columns={'index':'duplicated',0:'#'})\n",
    "dup_df['%'] = dup_df['#'].apply(lambda x: f'{x/dup_df[\"#\"].sum():.1%}')\n",
    "\n",
    "pie = ax.pie(dup_df['#'], labels=dup_df['duplicated'])\n",
    "\n",
    "dup_df"
   ]
  },
  {
   "cell_type": "markdown",
   "id": "6cb12d03-3700-4ae2-9bd4-a46fbee89eb9",
   "metadata": {},
   "source": [
    "**Note**:\n",
    "1. The full dataset have 185.908 rows.\n",
    "2. There are 3.132 (1.7%) duplicated rows from the full data set."
   ]
  },
  {
   "cell_type": "markdown",
   "id": "98bc34e8-9a4e-4ee6-927a-4b1f550cb5f9",
   "metadata": {},
   "source": [
    "### ¿How many times the same row can be duplicated?"
   ]
  },
  {
   "cell_type": "code",
   "execution_count": 28,
   "id": "66870361-6304-46f5-9f27-00c2b1adbe39",
   "metadata": {},
   "outputs": [
    {
     "name": "stdout",
     "output_type": "stream",
     "text": [
      "Númber of duplicated rows: 2251\n"
     ]
    },
    {
     "data": {
      "text/html": [
       "<div>\n",
       "<style scoped>\n",
       "    .dataframe tbody tr th:only-of-type {\n",
       "        vertical-align: middle;\n",
       "    }\n",
       "\n",
       "    .dataframe tbody tr th {\n",
       "        vertical-align: top;\n",
       "    }\n",
       "\n",
       "    .dataframe thead th {\n",
       "        text-align: right;\n",
       "    }\n",
       "</style>\n",
       "<table border=\"1\" class=\"dataframe\">\n",
       "  <thead>\n",
       "    <tr style=\"text-align: right;\">\n",
       "      <th></th>\n",
       "      <th>index</th>\n",
       "      <th>row_indicator</th>\n",
       "    </tr>\n",
       "  </thead>\n",
       "  <tbody>\n",
       "    <tr>\n",
       "      <th>0</th>\n",
       "      <td>1</td>\n",
       "      <td>180525</td>\n",
       "    </tr>\n",
       "    <tr>\n",
       "      <th>1</th>\n",
       "      <td>2</td>\n",
       "      <td>1807</td>\n",
       "    </tr>\n",
       "    <tr>\n",
       "      <th>2</th>\n",
       "      <td>3</td>\n",
       "      <td>272</td>\n",
       "    </tr>\n",
       "    <tr>\n",
       "      <th>3</th>\n",
       "      <td>4</td>\n",
       "      <td>91</td>\n",
       "    </tr>\n",
       "    <tr>\n",
       "      <th>4</th>\n",
       "      <td>5</td>\n",
       "      <td>32</td>\n",
       "    </tr>\n",
       "    <tr>\n",
       "      <th>5</th>\n",
       "      <td>6</td>\n",
       "      <td>15</td>\n",
       "    </tr>\n",
       "    <tr>\n",
       "      <th>6</th>\n",
       "      <td>7</td>\n",
       "      <td>13</td>\n",
       "    </tr>\n",
       "    <tr>\n",
       "      <th>7</th>\n",
       "      <td>8</td>\n",
       "      <td>6</td>\n",
       "    </tr>\n",
       "    <tr>\n",
       "      <th>8</th>\n",
       "      <td>9</td>\n",
       "      <td>4</td>\n",
       "    </tr>\n",
       "    <tr>\n",
       "      <th>15</th>\n",
       "      <td>10</td>\n",
       "      <td>1</td>\n",
       "    </tr>\n",
       "    <tr>\n",
       "      <th>11</th>\n",
       "      <td>11</td>\n",
       "      <td>2</td>\n",
       "    </tr>\n",
       "    <tr>\n",
       "      <th>9</th>\n",
       "      <td>12</td>\n",
       "      <td>3</td>\n",
       "    </tr>\n",
       "    <tr>\n",
       "      <th>10</th>\n",
       "      <td>13</td>\n",
       "      <td>2</td>\n",
       "    </tr>\n",
       "    <tr>\n",
       "      <th>14</th>\n",
       "      <td>15</td>\n",
       "      <td>1</td>\n",
       "    </tr>\n",
       "    <tr>\n",
       "      <th>12</th>\n",
       "      <td>16</td>\n",
       "      <td>1</td>\n",
       "    </tr>\n",
       "    <tr>\n",
       "      <th>13</th>\n",
       "      <td>39</td>\n",
       "      <td>1</td>\n",
       "    </tr>\n",
       "  </tbody>\n",
       "</table>\n",
       "</div>"
      ],
      "text/plain": [
       "    index  row_indicator\n",
       "0       1         180525\n",
       "1       2           1807\n",
       "2       3            272\n",
       "3       4             91\n",
       "4       5             32\n",
       "5       6             15\n",
       "6       7             13\n",
       "7       8              6\n",
       "8       9              4\n",
       "15     10              1\n",
       "11     11              2\n",
       "9      12              3\n",
       "10     13              2\n",
       "14     15              1\n",
       "12     16              1\n",
       "13     39              1"
      ]
     },
     "execution_count": 28,
     "metadata": {},
     "output_type": "execute_result"
    }
   ],
   "source": [
    "df['row_indicator'] = 1\n",
    "dup_df = df.groupby(list(df.columns)[:-1], as_index=False)[list(df.columns)[-1:]].count()['row_indicator'].value_counts(dropna=False).reset_index().sort_values(by='index')\n",
    "print(f\"Númber of duplicated rows: {dup_df.query('index > 1')['row_indicator'].sum()}\")\n",
    "df.drop(columns='row_indicator')\n",
    "dup_df"
   ]
  },
  {
   "cell_type": "markdown",
   "id": "306012a8-af87-484f-b1c6-9b46970c2e09",
   "metadata": {},
   "source": [
    "**Note**: Understanding that a row represents one transaction made by a client of a merchant (***merchant_name***) with a credit card (***card_number***), and seeing that a row can be duplicated from two to thirty nine times, i decided to delete the duplicated rows from the dataset."
   ]
  },
  {
   "cell_type": "code",
   "execution_count": 29,
   "id": "df3bbff4-01ee-4fea-965f-5e6dbe932c6e",
   "metadata": {},
   "outputs": [
    {
     "name": "stdout",
     "output_type": "stream",
     "text": [
      "Shape of df before drop duplicated rows: (185908, 12)\n",
      "Shape of df after drop duplicated rows: (182776, 12)\n",
      "<class 'pandas.core.frame.DataFrame'>\n",
      "RangeIndex: 182776 entries, 0 to 182775\n",
      "Data columns (total 12 columns):\n",
      " #   Column                    Non-Null Count   Dtype  \n",
      "---  ------                    --------------   -----  \n",
      " 0   file_name                 182776 non-null  object \n",
      " 1   sheet_name                182776 non-null  object \n",
      " 2   trans_date                182776 non-null  object \n",
      " 3   original_gross_amt        182776 non-null  float64\n",
      " 4   merchant_name             182776 non-null  object \n",
      " 5   card_number               182776 non-null  object \n",
      " 6   trans_cac_code_1_imputed  182776 non-null  object \n",
      " 7   trans_cac_desc_1_imputed  182776 non-null  object \n",
      " 8   trans_cac_code_2_imputed  182776 non-null  object \n",
      " 9   trans_cac_desc_2_imputed  182776 non-null  object \n",
      " 10  directorate_completed     182776 non-null  object \n",
      " 11  row_indicator             182776 non-null  int64  \n",
      "dtypes: float64(1), int64(1), object(10)\n",
      "memory usage: 16.7+ MB\n"
     ]
    },
    {
     "data": {
      "text/html": [
       "<div>\n",
       "<style scoped>\n",
       "    .dataframe tbody tr th:only-of-type {\n",
       "        vertical-align: middle;\n",
       "    }\n",
       "\n",
       "    .dataframe tbody tr th {\n",
       "        vertical-align: top;\n",
       "    }\n",
       "\n",
       "    .dataframe thead th {\n",
       "        text-align: right;\n",
       "    }\n",
       "</style>\n",
       "<table border=\"1\" class=\"dataframe\">\n",
       "  <thead>\n",
       "    <tr style=\"text-align: right;\">\n",
       "      <th></th>\n",
       "      <th>file_name</th>\n",
       "      <th>sheet_name</th>\n",
       "      <th>trans_date</th>\n",
       "      <th>original_gross_amt</th>\n",
       "      <th>merchant_name</th>\n",
       "      <th>card_number</th>\n",
       "      <th>trans_cac_code_1_imputed</th>\n",
       "      <th>trans_cac_desc_1_imputed</th>\n",
       "      <th>trans_cac_code_2_imputed</th>\n",
       "      <th>trans_cac_desc_2_imputed</th>\n",
       "      <th>directorate_completed</th>\n",
       "      <th>row_indicator</th>\n",
       "    </tr>\n",
       "  </thead>\n",
       "  <tbody>\n",
       "    <tr>\n",
       "      <th>0</th>\n",
       "      <td>cusersfinainmndesktoppublish-copy-january-2017...</td>\n",
       "      <td>Sheet1</td>\n",
       "      <td>2017-01-03</td>\n",
       "      <td>72.61</td>\n",
       "      <td>shell kings 587</td>\n",
       "      <td>************5770</td>\n",
       "      <td>K020</td>\n",
       "      <td>Vehicle Fuel</td>\n",
       "      <td>RV12N</td>\n",
       "      <td>African-Caribbean DC</td>\n",
       "      <td>Adult &amp; Communities</td>\n",
       "      <td>1</td>\n",
       "    </tr>\n",
       "    <tr>\n",
       "      <th>1</th>\n",
       "      <td>cusersfinainmndesktoppublish-copy-january-2017...</td>\n",
       "      <td>Sheet1</td>\n",
       "      <td>2017-01-24</td>\n",
       "      <td>85.51</td>\n",
       "      <td>shell fiveways 387</td>\n",
       "      <td>************1147</td>\n",
       "      <td>K020</td>\n",
       "      <td>Vehicle Fuel</td>\n",
       "      <td>RV1K2</td>\n",
       "      <td>Elders Group - Ladywood</td>\n",
       "      <td>Adult &amp; Communities</td>\n",
       "      <td>1</td>\n",
       "    </tr>\n",
       "    <tr>\n",
       "      <th>2</th>\n",
       "      <td>cusersfinainmndesktoppublish-copy-january-2017...</td>\n",
       "      <td>Sheet1</td>\n",
       "      <td>2017-02-01</td>\n",
       "      <td>10.09</td>\n",
       "      <td>shell fiveways 387</td>\n",
       "      <td>************1147</td>\n",
       "      <td>K020</td>\n",
       "      <td>Vehicle Fuel</td>\n",
       "      <td>RV1K2</td>\n",
       "      <td>Elders Group - Ladywood</td>\n",
       "      <td>Adult &amp; Communities</td>\n",
       "      <td>1</td>\n",
       "    </tr>\n",
       "    <tr>\n",
       "      <th>3</th>\n",
       "      <td>cusersfinainmndesktoppublish-copy-january-2017...</td>\n",
       "      <td>Sheet1</td>\n",
       "      <td>2017-01-04</td>\n",
       "      <td>20.00</td>\n",
       "      <td>mibsons service st</td>\n",
       "      <td>************5804</td>\n",
       "      <td>K020</td>\n",
       "      <td>Vehicle Fuel</td>\n",
       "      <td>RVA12</td>\n",
       "      <td>Enablement Tyburn Rd</td>\n",
       "      <td>Adult &amp; Communities</td>\n",
       "      <td>1</td>\n",
       "    </tr>\n",
       "    <tr>\n",
       "      <th>4</th>\n",
       "      <td>cusersfinainmndesktoppublish-copy-january-2017...</td>\n",
       "      <td>Sheet1</td>\n",
       "      <td>2017-01-05</td>\n",
       "      <td>50.00</td>\n",
       "      <td>malthurst petroleu</td>\n",
       "      <td>************5804</td>\n",
       "      <td>K020</td>\n",
       "      <td>Vehicle Fuel</td>\n",
       "      <td>RVA12</td>\n",
       "      <td>Enablement Tyburn Rd</td>\n",
       "      <td>Adult &amp; Communities</td>\n",
       "      <td>1</td>\n",
       "    </tr>\n",
       "  </tbody>\n",
       "</table>\n",
       "</div>"
      ],
      "text/plain": [
       "                                           file_name sheet_name  trans_date  \\\n",
       "0  cusersfinainmndesktoppublish-copy-january-2017...     Sheet1  2017-01-03   \n",
       "1  cusersfinainmndesktoppublish-copy-january-2017...     Sheet1  2017-01-24   \n",
       "2  cusersfinainmndesktoppublish-copy-january-2017...     Sheet1  2017-02-01   \n",
       "3  cusersfinainmndesktoppublish-copy-january-2017...     Sheet1  2017-01-04   \n",
       "4  cusersfinainmndesktoppublish-copy-january-2017...     Sheet1  2017-01-05   \n",
       "\n",
       "   original_gross_amt       merchant_name       card_number  \\\n",
       "0               72.61     shell kings 587  ************5770   \n",
       "1               85.51  shell fiveways 387  ************1147   \n",
       "2               10.09  shell fiveways 387  ************1147   \n",
       "3               20.00  mibsons service st  ************5804   \n",
       "4               50.00  malthurst petroleu  ************5804   \n",
       "\n",
       "  trans_cac_code_1_imputed trans_cac_desc_1_imputed trans_cac_code_2_imputed  \\\n",
       "0                     K020             Vehicle Fuel                    RV12N   \n",
       "1                     K020             Vehicle Fuel                    RV1K2   \n",
       "2                     K020             Vehicle Fuel                    RV1K2   \n",
       "3                     K020             Vehicle Fuel                    RVA12   \n",
       "4                     K020             Vehicle Fuel                    RVA12   \n",
       "\n",
       "  trans_cac_desc_2_imputed directorate_completed  row_indicator  \n",
       "0     African-Caribbean DC   Adult & Communities              1  \n",
       "1  Elders Group - Ladywood   Adult & Communities              1  \n",
       "2  Elders Group - Ladywood   Adult & Communities              1  \n",
       "3     Enablement Tyburn Rd   Adult & Communities              1  \n",
       "4     Enablement Tyburn Rd   Adult & Communities              1  "
      ]
     },
     "execution_count": 29,
     "metadata": {},
     "output_type": "execute_result"
    }
   ],
   "source": [
    "print(f'Shape of df before drop duplicated rows: {df.shape}')\n",
    "df.drop_duplicates(subset=None, keep='first', inplace=True, ignore_index=True)\n",
    "print(f'Shape of df after drop duplicated rows: {df.shape}')\n",
    "df.info()\n",
    "df.head()"
   ]
  },
  {
   "cell_type": "markdown",
   "id": "a9a74888-c88c-4771-b317-b095f66c6a15",
   "metadata": {},
   "source": [
    "### Saving prepared dataframe"
   ]
  },
  {
   "cell_type": "code",
   "execution_count": 30,
   "id": "57994341-bf62-410f-8405-55979746c008",
   "metadata": {},
   "outputs": [],
   "source": [
    "df.to_csv('../data/interim/prepared_consolidated_data.csv', sep='~', encoding='utf-8', index=False)"
   ]
  }
 ],
 "metadata": {
  "kernelspec": {
   "display_name": "Python 3 (ipykernel)",
   "language": "python",
   "name": "python3"
  },
  "language_info": {
   "codemirror_mode": {
    "name": "ipython",
    "version": 3
   },
   "file_extension": ".py",
   "mimetype": "text/x-python",
   "name": "python",
   "nbconvert_exporter": "python",
   "pygments_lexer": "ipython3",
   "version": "3.9.5"
  }
 },
 "nbformat": 4,
 "nbformat_minor": 5
}
